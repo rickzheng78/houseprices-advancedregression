{
 "cells": [
  {
   "cell_type": "code",
   "execution_count": 57,
   "id": "2260dd34",
   "metadata": {},
   "outputs": [],
   "source": [
    "import numpy as np\n",
    "import pandas as pd\n",
    "import matplotlib.pyplot as plt\n",
    "import seaborn as sns\n",
    "from sklearn.linear_model import LinearRegression\n",
    "from sklearn.model_selection import train_test_split\n",
    "from sklearn.metrics import r2_score, mean_squared_error\n",
    "from sklearn.ensemble import RandomForestRegressor"
   ]
  },
  {
   "cell_type": "markdown",
   "id": "6ad748c1",
   "metadata": {},
   "source": [
    "### Loading Data"
   ]
  },
  {
   "cell_type": "code",
   "execution_count": 58,
   "id": "c1570546",
   "metadata": {},
   "outputs": [
    {
     "data": {
      "text/html": [
       "<div>\n",
       "<style scoped>\n",
       "    .dataframe tbody tr th:only-of-type {\n",
       "        vertical-align: middle;\n",
       "    }\n",
       "\n",
       "    .dataframe tbody tr th {\n",
       "        vertical-align: top;\n",
       "    }\n",
       "\n",
       "    .dataframe thead th {\n",
       "        text-align: right;\n",
       "    }\n",
       "</style>\n",
       "<table border=\"1\" class=\"dataframe\">\n",
       "  <thead>\n",
       "    <tr style=\"text-align: right;\">\n",
       "      <th></th>\n",
       "      <th>Id</th>\n",
       "      <th>MSSubClass</th>\n",
       "      <th>MSZoning</th>\n",
       "      <th>LotFrontage</th>\n",
       "      <th>LotArea</th>\n",
       "      <th>Street</th>\n",
       "      <th>Alley</th>\n",
       "      <th>LotShape</th>\n",
       "      <th>LandContour</th>\n",
       "      <th>Utilities</th>\n",
       "      <th>...</th>\n",
       "      <th>PoolArea</th>\n",
       "      <th>PoolQC</th>\n",
       "      <th>Fence</th>\n",
       "      <th>MiscFeature</th>\n",
       "      <th>MiscVal</th>\n",
       "      <th>MoSold</th>\n",
       "      <th>YrSold</th>\n",
       "      <th>SaleType</th>\n",
       "      <th>SaleCondition</th>\n",
       "      <th>SalePrice</th>\n",
       "    </tr>\n",
       "  </thead>\n",
       "  <tbody>\n",
       "    <tr>\n",
       "      <th>0</th>\n",
       "      <td>1</td>\n",
       "      <td>60</td>\n",
       "      <td>RL</td>\n",
       "      <td>65.0</td>\n",
       "      <td>8450</td>\n",
       "      <td>Pave</td>\n",
       "      <td>NaN</td>\n",
       "      <td>Reg</td>\n",
       "      <td>Lvl</td>\n",
       "      <td>AllPub</td>\n",
       "      <td>...</td>\n",
       "      <td>0</td>\n",
       "      <td>NaN</td>\n",
       "      <td>NaN</td>\n",
       "      <td>NaN</td>\n",
       "      <td>0</td>\n",
       "      <td>2</td>\n",
       "      <td>2008</td>\n",
       "      <td>WD</td>\n",
       "      <td>Normal</td>\n",
       "      <td>208500</td>\n",
       "    </tr>\n",
       "    <tr>\n",
       "      <th>1</th>\n",
       "      <td>2</td>\n",
       "      <td>20</td>\n",
       "      <td>RL</td>\n",
       "      <td>80.0</td>\n",
       "      <td>9600</td>\n",
       "      <td>Pave</td>\n",
       "      <td>NaN</td>\n",
       "      <td>Reg</td>\n",
       "      <td>Lvl</td>\n",
       "      <td>AllPub</td>\n",
       "      <td>...</td>\n",
       "      <td>0</td>\n",
       "      <td>NaN</td>\n",
       "      <td>NaN</td>\n",
       "      <td>NaN</td>\n",
       "      <td>0</td>\n",
       "      <td>5</td>\n",
       "      <td>2007</td>\n",
       "      <td>WD</td>\n",
       "      <td>Normal</td>\n",
       "      <td>181500</td>\n",
       "    </tr>\n",
       "    <tr>\n",
       "      <th>2</th>\n",
       "      <td>3</td>\n",
       "      <td>60</td>\n",
       "      <td>RL</td>\n",
       "      <td>68.0</td>\n",
       "      <td>11250</td>\n",
       "      <td>Pave</td>\n",
       "      <td>NaN</td>\n",
       "      <td>IR1</td>\n",
       "      <td>Lvl</td>\n",
       "      <td>AllPub</td>\n",
       "      <td>...</td>\n",
       "      <td>0</td>\n",
       "      <td>NaN</td>\n",
       "      <td>NaN</td>\n",
       "      <td>NaN</td>\n",
       "      <td>0</td>\n",
       "      <td>9</td>\n",
       "      <td>2008</td>\n",
       "      <td>WD</td>\n",
       "      <td>Normal</td>\n",
       "      <td>223500</td>\n",
       "    </tr>\n",
       "    <tr>\n",
       "      <th>3</th>\n",
       "      <td>4</td>\n",
       "      <td>70</td>\n",
       "      <td>RL</td>\n",
       "      <td>60.0</td>\n",
       "      <td>9550</td>\n",
       "      <td>Pave</td>\n",
       "      <td>NaN</td>\n",
       "      <td>IR1</td>\n",
       "      <td>Lvl</td>\n",
       "      <td>AllPub</td>\n",
       "      <td>...</td>\n",
       "      <td>0</td>\n",
       "      <td>NaN</td>\n",
       "      <td>NaN</td>\n",
       "      <td>NaN</td>\n",
       "      <td>0</td>\n",
       "      <td>2</td>\n",
       "      <td>2006</td>\n",
       "      <td>WD</td>\n",
       "      <td>Abnorml</td>\n",
       "      <td>140000</td>\n",
       "    </tr>\n",
       "    <tr>\n",
       "      <th>4</th>\n",
       "      <td>5</td>\n",
       "      <td>60</td>\n",
       "      <td>RL</td>\n",
       "      <td>84.0</td>\n",
       "      <td>14260</td>\n",
       "      <td>Pave</td>\n",
       "      <td>NaN</td>\n",
       "      <td>IR1</td>\n",
       "      <td>Lvl</td>\n",
       "      <td>AllPub</td>\n",
       "      <td>...</td>\n",
       "      <td>0</td>\n",
       "      <td>NaN</td>\n",
       "      <td>NaN</td>\n",
       "      <td>NaN</td>\n",
       "      <td>0</td>\n",
       "      <td>12</td>\n",
       "      <td>2008</td>\n",
       "      <td>WD</td>\n",
       "      <td>Normal</td>\n",
       "      <td>250000</td>\n",
       "    </tr>\n",
       "  </tbody>\n",
       "</table>\n",
       "<p>5 rows × 81 columns</p>\n",
       "</div>"
      ],
      "text/plain": [
       "   Id  MSSubClass MSZoning  LotFrontage  LotArea Street Alley LotShape  \\\n",
       "0   1          60       RL         65.0     8450   Pave   NaN      Reg   \n",
       "1   2          20       RL         80.0     9600   Pave   NaN      Reg   \n",
       "2   3          60       RL         68.0    11250   Pave   NaN      IR1   \n",
       "3   4          70       RL         60.0     9550   Pave   NaN      IR1   \n",
       "4   5          60       RL         84.0    14260   Pave   NaN      IR1   \n",
       "\n",
       "  LandContour Utilities  ... PoolArea PoolQC Fence MiscFeature MiscVal MoSold  \\\n",
       "0         Lvl    AllPub  ...        0    NaN   NaN         NaN       0      2   \n",
       "1         Lvl    AllPub  ...        0    NaN   NaN         NaN       0      5   \n",
       "2         Lvl    AllPub  ...        0    NaN   NaN         NaN       0      9   \n",
       "3         Lvl    AllPub  ...        0    NaN   NaN         NaN       0      2   \n",
       "4         Lvl    AllPub  ...        0    NaN   NaN         NaN       0     12   \n",
       "\n",
       "  YrSold  SaleType  SaleCondition  SalePrice  \n",
       "0   2008        WD         Normal     208500  \n",
       "1   2007        WD         Normal     181500  \n",
       "2   2008        WD         Normal     223500  \n",
       "3   2006        WD        Abnorml     140000  \n",
       "4   2008        WD         Normal     250000  \n",
       "\n",
       "[5 rows x 81 columns]"
      ]
     },
     "execution_count": 58,
     "metadata": {},
     "output_type": "execute_result"
    }
   ],
   "source": [
    "train = pd.read_csv(\"data/train.csv\")\n",
    "train_id = train['Id']\n",
    "train.head()"
   ]
  },
  {
   "cell_type": "code",
   "execution_count": 59,
   "id": "d966c06e",
   "metadata": {},
   "outputs": [
    {
     "data": {
      "text/html": [
       "<div>\n",
       "<style scoped>\n",
       "    .dataframe tbody tr th:only-of-type {\n",
       "        vertical-align: middle;\n",
       "    }\n",
       "\n",
       "    .dataframe tbody tr th {\n",
       "        vertical-align: top;\n",
       "    }\n",
       "\n",
       "    .dataframe thead th {\n",
       "        text-align: right;\n",
       "    }\n",
       "</style>\n",
       "<table border=\"1\" class=\"dataframe\">\n",
       "  <thead>\n",
       "    <tr style=\"text-align: right;\">\n",
       "      <th></th>\n",
       "      <th>Id</th>\n",
       "      <th>MSSubClass</th>\n",
       "      <th>MSZoning</th>\n",
       "      <th>LotFrontage</th>\n",
       "      <th>LotArea</th>\n",
       "      <th>Street</th>\n",
       "      <th>Alley</th>\n",
       "      <th>LotShape</th>\n",
       "      <th>LandContour</th>\n",
       "      <th>Utilities</th>\n",
       "      <th>...</th>\n",
       "      <th>ScreenPorch</th>\n",
       "      <th>PoolArea</th>\n",
       "      <th>PoolQC</th>\n",
       "      <th>Fence</th>\n",
       "      <th>MiscFeature</th>\n",
       "      <th>MiscVal</th>\n",
       "      <th>MoSold</th>\n",
       "      <th>YrSold</th>\n",
       "      <th>SaleType</th>\n",
       "      <th>SaleCondition</th>\n",
       "    </tr>\n",
       "  </thead>\n",
       "  <tbody>\n",
       "    <tr>\n",
       "      <th>0</th>\n",
       "      <td>1461</td>\n",
       "      <td>20</td>\n",
       "      <td>RH</td>\n",
       "      <td>80.0</td>\n",
       "      <td>11622</td>\n",
       "      <td>Pave</td>\n",
       "      <td>NaN</td>\n",
       "      <td>Reg</td>\n",
       "      <td>Lvl</td>\n",
       "      <td>AllPub</td>\n",
       "      <td>...</td>\n",
       "      <td>120</td>\n",
       "      <td>0</td>\n",
       "      <td>NaN</td>\n",
       "      <td>MnPrv</td>\n",
       "      <td>NaN</td>\n",
       "      <td>0</td>\n",
       "      <td>6</td>\n",
       "      <td>2010</td>\n",
       "      <td>WD</td>\n",
       "      <td>Normal</td>\n",
       "    </tr>\n",
       "    <tr>\n",
       "      <th>1</th>\n",
       "      <td>1462</td>\n",
       "      <td>20</td>\n",
       "      <td>RL</td>\n",
       "      <td>81.0</td>\n",
       "      <td>14267</td>\n",
       "      <td>Pave</td>\n",
       "      <td>NaN</td>\n",
       "      <td>IR1</td>\n",
       "      <td>Lvl</td>\n",
       "      <td>AllPub</td>\n",
       "      <td>...</td>\n",
       "      <td>0</td>\n",
       "      <td>0</td>\n",
       "      <td>NaN</td>\n",
       "      <td>NaN</td>\n",
       "      <td>Gar2</td>\n",
       "      <td>12500</td>\n",
       "      <td>6</td>\n",
       "      <td>2010</td>\n",
       "      <td>WD</td>\n",
       "      <td>Normal</td>\n",
       "    </tr>\n",
       "    <tr>\n",
       "      <th>2</th>\n",
       "      <td>1463</td>\n",
       "      <td>60</td>\n",
       "      <td>RL</td>\n",
       "      <td>74.0</td>\n",
       "      <td>13830</td>\n",
       "      <td>Pave</td>\n",
       "      <td>NaN</td>\n",
       "      <td>IR1</td>\n",
       "      <td>Lvl</td>\n",
       "      <td>AllPub</td>\n",
       "      <td>...</td>\n",
       "      <td>0</td>\n",
       "      <td>0</td>\n",
       "      <td>NaN</td>\n",
       "      <td>MnPrv</td>\n",
       "      <td>NaN</td>\n",
       "      <td>0</td>\n",
       "      <td>3</td>\n",
       "      <td>2010</td>\n",
       "      <td>WD</td>\n",
       "      <td>Normal</td>\n",
       "    </tr>\n",
       "    <tr>\n",
       "      <th>3</th>\n",
       "      <td>1464</td>\n",
       "      <td>60</td>\n",
       "      <td>RL</td>\n",
       "      <td>78.0</td>\n",
       "      <td>9978</td>\n",
       "      <td>Pave</td>\n",
       "      <td>NaN</td>\n",
       "      <td>IR1</td>\n",
       "      <td>Lvl</td>\n",
       "      <td>AllPub</td>\n",
       "      <td>...</td>\n",
       "      <td>0</td>\n",
       "      <td>0</td>\n",
       "      <td>NaN</td>\n",
       "      <td>NaN</td>\n",
       "      <td>NaN</td>\n",
       "      <td>0</td>\n",
       "      <td>6</td>\n",
       "      <td>2010</td>\n",
       "      <td>WD</td>\n",
       "      <td>Normal</td>\n",
       "    </tr>\n",
       "    <tr>\n",
       "      <th>4</th>\n",
       "      <td>1465</td>\n",
       "      <td>120</td>\n",
       "      <td>RL</td>\n",
       "      <td>43.0</td>\n",
       "      <td>5005</td>\n",
       "      <td>Pave</td>\n",
       "      <td>NaN</td>\n",
       "      <td>IR1</td>\n",
       "      <td>HLS</td>\n",
       "      <td>AllPub</td>\n",
       "      <td>...</td>\n",
       "      <td>144</td>\n",
       "      <td>0</td>\n",
       "      <td>NaN</td>\n",
       "      <td>NaN</td>\n",
       "      <td>NaN</td>\n",
       "      <td>0</td>\n",
       "      <td>1</td>\n",
       "      <td>2010</td>\n",
       "      <td>WD</td>\n",
       "      <td>Normal</td>\n",
       "    </tr>\n",
       "  </tbody>\n",
       "</table>\n",
       "<p>5 rows × 80 columns</p>\n",
       "</div>"
      ],
      "text/plain": [
       "     Id  MSSubClass MSZoning  LotFrontage  LotArea Street Alley LotShape  \\\n",
       "0  1461          20       RH         80.0    11622   Pave   NaN      Reg   \n",
       "1  1462          20       RL         81.0    14267   Pave   NaN      IR1   \n",
       "2  1463          60       RL         74.0    13830   Pave   NaN      IR1   \n",
       "3  1464          60       RL         78.0     9978   Pave   NaN      IR1   \n",
       "4  1465         120       RL         43.0     5005   Pave   NaN      IR1   \n",
       "\n",
       "  LandContour Utilities  ... ScreenPorch PoolArea PoolQC  Fence MiscFeature  \\\n",
       "0         Lvl    AllPub  ...         120        0    NaN  MnPrv         NaN   \n",
       "1         Lvl    AllPub  ...           0        0    NaN    NaN        Gar2   \n",
       "2         Lvl    AllPub  ...           0        0    NaN  MnPrv         NaN   \n",
       "3         Lvl    AllPub  ...           0        0    NaN    NaN         NaN   \n",
       "4         HLS    AllPub  ...         144        0    NaN    NaN         NaN   \n",
       "\n",
       "  MiscVal MoSold  YrSold  SaleType  SaleCondition  \n",
       "0       0      6    2010        WD         Normal  \n",
       "1   12500      6    2010        WD         Normal  \n",
       "2       0      3    2010        WD         Normal  \n",
       "3       0      6    2010        WD         Normal  \n",
       "4       0      1    2010        WD         Normal  \n",
       "\n",
       "[5 rows x 80 columns]"
      ]
     },
     "execution_count": 59,
     "metadata": {},
     "output_type": "execute_result"
    }
   ],
   "source": [
    "test = pd.read_csv(\"data/test.csv\")\n",
    "test_id = test['Id']\n",
    "test.head()"
   ]
  },
  {
   "cell_type": "code",
   "execution_count": 60,
   "id": "9741f60a",
   "metadata": {},
   "outputs": [
    {
     "name": "stdout",
     "output_type": "stream",
     "text": [
      "(1460, 81)\n",
      "(1459, 80)\n"
     ]
    }
   ],
   "source": [
    "print(train.shape)\n",
    "print(test.shape)"
   ]
  },
  {
   "cell_type": "markdown",
   "id": "f1d61e96",
   "metadata": {},
   "source": [
    "### Exploratory Data Analysis"
   ]
  },
  {
   "cell_type": "code",
   "execution_count": 61,
   "id": "f973801a",
   "metadata": {},
   "outputs": [
    {
     "data": {
      "text/plain": [
       "object     43\n",
       "int64      35\n",
       "float64     3\n",
       "dtype: int64"
      ]
     },
     "execution_count": 61,
     "metadata": {},
     "output_type": "execute_result"
    }
   ],
   "source": [
    "train.dtypes.value_counts()"
   ]
  },
  {
   "cell_type": "code",
   "execution_count": 62,
   "id": "f1d063de",
   "metadata": {},
   "outputs": [
    {
     "data": {
      "text/plain": [
       "PoolQC         1453\n",
       "MiscFeature    1406\n",
       "Alley          1369\n",
       "Fence          1179\n",
       "FireplaceQu     690\n",
       "               ... \n",
       "ExterQual         0\n",
       "Exterior2nd       0\n",
       "Exterior1st       0\n",
       "RoofMatl          0\n",
       "SalePrice         0\n",
       "Length: 81, dtype: int64"
      ]
     },
     "execution_count": 62,
     "metadata": {},
     "output_type": "execute_result"
    }
   ],
   "source": [
    "train.isna().sum().sort_values(ascending = False)"
   ]
  },
  {
   "cell_type": "code",
   "execution_count": 63,
   "id": "3c7246db",
   "metadata": {},
   "outputs": [
    {
     "data": {
      "text/html": [
       "<style  type=\"text/css\" >\n",
       "#T_19134_row0_col1{\n",
       "            background-color:  #67000d;\n",
       "            color:  #f1f1f1;\n",
       "        }#T_19134_row1_col1{\n",
       "            background-color:  #920a13;\n",
       "            color:  #f1f1f1;\n",
       "        }#T_19134_row2_col1{\n",
       "            background-color:  #b01217;\n",
       "            color:  #f1f1f1;\n",
       "        }#T_19134_row3_col1{\n",
       "            background-color:  #b61319;\n",
       "            color:  #f1f1f1;\n",
       "        }#T_19134_row4_col1{\n",
       "            background-color:  #b81419;\n",
       "            color:  #f1f1f1;\n",
       "        }#T_19134_row5_col1{\n",
       "            background-color:  #bc141a;\n",
       "            color:  #f1f1f1;\n",
       "        }#T_19134_row6_col1{\n",
       "            background-color:  #ca181d;\n",
       "            color:  #f1f1f1;\n",
       "        }#T_19134_row7_col1{\n",
       "            background-color:  #d32020;\n",
       "            color:  #f1f1f1;\n",
       "        }#T_19134_row8_col1{\n",
       "            background-color:  #d72322;\n",
       "            color:  #f1f1f1;\n",
       "        }#T_19134_row9_col1{\n",
       "            background-color:  #db2824;\n",
       "            color:  #f1f1f1;\n",
       "        }#T_19134_row10_col1{\n",
       "            background-color:  #e22e27;\n",
       "            color:  #f1f1f1;\n",
       "        }#T_19134_row11_col1{\n",
       "            background-color:  #e43027;\n",
       "            color:  #f1f1f1;\n",
       "        }#T_19134_row12_col1{\n",
       "            background-color:  #e83429;\n",
       "            color:  #f1f1f1;\n",
       "        }#T_19134_row13_col1{\n",
       "            background-color:  #f5523a;\n",
       "            color:  #000000;\n",
       "        }#T_19134_row14_col1{\n",
       "            background-color:  #f96044;\n",
       "            color:  #000000;\n",
       "        }#T_19134_row15_col1{\n",
       "            background-color:  #fb6b4b;\n",
       "            color:  #000000;\n",
       "        }#T_19134_row16_col1{\n",
       "            background-color:  #fb6d4d;\n",
       "            color:  #000000;\n",
       "        }#T_19134_row17_col1{\n",
       "            background-color:  #fb6e4e;\n",
       "            color:  #000000;\n",
       "        }#T_19134_row18_col1{\n",
       "            background-color:  #fb7858;\n",
       "            color:  #000000;\n",
       "        }#T_19134_row19_col1{\n",
       "            background-color:  #fc8060;\n",
       "            color:  #000000;\n",
       "        }#T_19134_row20_col1{\n",
       "            background-color:  #fc8d6d;\n",
       "            color:  #000000;\n",
       "        }#T_19134_row21_col1{\n",
       "            background-color:  #fc9272;\n",
       "            color:  #000000;\n",
       "        }#T_19134_row22_col1{\n",
       "            background-color:  #fca285;\n",
       "            color:  #000000;\n",
       "        }#T_19134_row23_col1{\n",
       "            background-color:  #fcb69b;\n",
       "            color:  #000000;\n",
       "        }#T_19134_row24_col1{\n",
       "            background-color:  #fcbca2;\n",
       "            color:  #000000;\n",
       "        }#T_19134_row25_col1{\n",
       "            background-color:  #fdcbb6;\n",
       "            color:  #000000;\n",
       "        }#T_19134_row26_col1{\n",
       "            background-color:  #fdccb8;\n",
       "            color:  #000000;\n",
       "        }#T_19134_row27_col1{\n",
       "            background-color:  #fedecf;\n",
       "            color:  #000000;\n",
       "        }#T_19134_row28_col1{\n",
       "            background-color:  #fee0d2;\n",
       "            color:  #000000;\n",
       "        }#T_19134_row29_col1,#T_19134_row30_col1{\n",
       "            background-color:  #fee1d3;\n",
       "            color:  #000000;\n",
       "        }#T_19134_row31_col1{\n",
       "            background-color:  #fee1d4;\n",
       "            color:  #000000;\n",
       "        }#T_19134_row32_col1{\n",
       "            background-color:  #fee2d5;\n",
       "            color:  #000000;\n",
       "        }#T_19134_row33_col1{\n",
       "            background-color:  #feeae1;\n",
       "            color:  #000000;\n",
       "        }#T_19134_row34_col1{\n",
       "            background-color:  #ffece3;\n",
       "            color:  #000000;\n",
       "        }#T_19134_row35_col1{\n",
       "            background-color:  #fff4ee;\n",
       "            color:  #000000;\n",
       "        }#T_19134_row36_col1{\n",
       "            background-color:  #fff5f0;\n",
       "            color:  #000000;\n",
       "        }</style><table id=\"T_19134_\" ><thead>    <tr>        <th class=\"blank level0\" ></th>        <th class=\"col_heading level0 col0\" >Features</th>        <th class=\"col_heading level0 col1\" >SalePrice_Correlation</th>    </tr></thead><tbody>\n",
       "                <tr>\n",
       "                        <th id=\"T_19134_level0_row0\" class=\"row_heading level0 row0\" >0</th>\n",
       "                        <td id=\"T_19134_row0_col0\" class=\"data row0 col0\" >OverallQual</td>\n",
       "                        <td id=\"T_19134_row0_col1\" class=\"data row0 col1\" >0.790982</td>\n",
       "            </tr>\n",
       "            <tr>\n",
       "                        <th id=\"T_19134_level0_row1\" class=\"row_heading level0 row1\" >1</th>\n",
       "                        <td id=\"T_19134_row1_col0\" class=\"data row1 col0\" >GrLivArea</td>\n",
       "                        <td id=\"T_19134_row1_col1\" class=\"data row1 col1\" >0.708624</td>\n",
       "            </tr>\n",
       "            <tr>\n",
       "                        <th id=\"T_19134_level0_row2\" class=\"row_heading level0 row2\" >2</th>\n",
       "                        <td id=\"T_19134_row2_col0\" class=\"data row2 col0\" >GarageCars</td>\n",
       "                        <td id=\"T_19134_row2_col1\" class=\"data row2 col1\" >0.640409</td>\n",
       "            </tr>\n",
       "            <tr>\n",
       "                        <th id=\"T_19134_level0_row3\" class=\"row_heading level0 row3\" >3</th>\n",
       "                        <td id=\"T_19134_row3_col0\" class=\"data row3 col0\" >GarageArea</td>\n",
       "                        <td id=\"T_19134_row3_col1\" class=\"data row3 col1\" >0.623431</td>\n",
       "            </tr>\n",
       "            <tr>\n",
       "                        <th id=\"T_19134_level0_row4\" class=\"row_heading level0 row4\" >4</th>\n",
       "                        <td id=\"T_19134_row4_col0\" class=\"data row4 col0\" >TotalBsmtSF</td>\n",
       "                        <td id=\"T_19134_row4_col1\" class=\"data row4 col1\" >0.613581</td>\n",
       "            </tr>\n",
       "            <tr>\n",
       "                        <th id=\"T_19134_level0_row5\" class=\"row_heading level0 row5\" >5</th>\n",
       "                        <td id=\"T_19134_row5_col0\" class=\"data row5 col0\" >1stFlrSF</td>\n",
       "                        <td id=\"T_19134_row5_col1\" class=\"data row5 col1\" >0.605852</td>\n",
       "            </tr>\n",
       "            <tr>\n",
       "                        <th id=\"T_19134_level0_row6\" class=\"row_heading level0 row6\" >6</th>\n",
       "                        <td id=\"T_19134_row6_col0\" class=\"data row6 col0\" >FullBath</td>\n",
       "                        <td id=\"T_19134_row6_col1\" class=\"data row6 col1\" >0.560664</td>\n",
       "            </tr>\n",
       "            <tr>\n",
       "                        <th id=\"T_19134_level0_row7\" class=\"row_heading level0 row7\" >7</th>\n",
       "                        <td id=\"T_19134_row7_col0\" class=\"data row7 col0\" >TotRmsAbvGrd</td>\n",
       "                        <td id=\"T_19134_row7_col1\" class=\"data row7 col1\" >0.533723</td>\n",
       "            </tr>\n",
       "            <tr>\n",
       "                        <th id=\"T_19134_level0_row8\" class=\"row_heading level0 row8\" >8</th>\n",
       "                        <td id=\"T_19134_row8_col0\" class=\"data row8 col0\" >YearBuilt</td>\n",
       "                        <td id=\"T_19134_row8_col1\" class=\"data row8 col1\" >0.522897</td>\n",
       "            </tr>\n",
       "            <tr>\n",
       "                        <th id=\"T_19134_level0_row9\" class=\"row_heading level0 row9\" >9</th>\n",
       "                        <td id=\"T_19134_row9_col0\" class=\"data row9 col0\" >YearRemodAdd</td>\n",
       "                        <td id=\"T_19134_row9_col1\" class=\"data row9 col1\" >0.507101</td>\n",
       "            </tr>\n",
       "            <tr>\n",
       "                        <th id=\"T_19134_level0_row10\" class=\"row_heading level0 row10\" >10</th>\n",
       "                        <td id=\"T_19134_row10_col0\" class=\"data row10 col0\" >GarageYrBlt</td>\n",
       "                        <td id=\"T_19134_row10_col1\" class=\"data row10 col1\" >0.486362</td>\n",
       "            </tr>\n",
       "            <tr>\n",
       "                        <th id=\"T_19134_level0_row11\" class=\"row_heading level0 row11\" >11</th>\n",
       "                        <td id=\"T_19134_row11_col0\" class=\"data row11 col0\" >MasVnrArea</td>\n",
       "                        <td id=\"T_19134_row11_col1\" class=\"data row11 col1\" >0.477493</td>\n",
       "            </tr>\n",
       "            <tr>\n",
       "                        <th id=\"T_19134_level0_row12\" class=\"row_heading level0 row12\" >12</th>\n",
       "                        <td id=\"T_19134_row12_col0\" class=\"data row12 col0\" >Fireplaces</td>\n",
       "                        <td id=\"T_19134_row12_col1\" class=\"data row12 col1\" >0.466929</td>\n",
       "            </tr>\n",
       "            <tr>\n",
       "                        <th id=\"T_19134_level0_row13\" class=\"row_heading level0 row13\" >13</th>\n",
       "                        <td id=\"T_19134_row13_col0\" class=\"data row13 col0\" >BsmtFinSF1</td>\n",
       "                        <td id=\"T_19134_row13_col1\" class=\"data row13 col1\" >0.386420</td>\n",
       "            </tr>\n",
       "            <tr>\n",
       "                        <th id=\"T_19134_level0_row14\" class=\"row_heading level0 row14\" >14</th>\n",
       "                        <td id=\"T_19134_row14_col0\" class=\"data row14 col0\" >LotFrontage</td>\n",
       "                        <td id=\"T_19134_row14_col1\" class=\"data row14 col1\" >0.351799</td>\n",
       "            </tr>\n",
       "            <tr>\n",
       "                        <th id=\"T_19134_level0_row15\" class=\"row_heading level0 row15\" >15</th>\n",
       "                        <td id=\"T_19134_row15_col0\" class=\"data row15 col0\" >WoodDeckSF</td>\n",
       "                        <td id=\"T_19134_row15_col1\" class=\"data row15 col1\" >0.324413</td>\n",
       "            </tr>\n",
       "            <tr>\n",
       "                        <th id=\"T_19134_level0_row16\" class=\"row_heading level0 row16\" >16</th>\n",
       "                        <td id=\"T_19134_row16_col0\" class=\"data row16 col0\" >2ndFlrSF</td>\n",
       "                        <td id=\"T_19134_row16_col1\" class=\"data row16 col1\" >0.319334</td>\n",
       "            </tr>\n",
       "            <tr>\n",
       "                        <th id=\"T_19134_level0_row17\" class=\"row_heading level0 row17\" >17</th>\n",
       "                        <td id=\"T_19134_row17_col0\" class=\"data row17 col0\" >OpenPorchSF</td>\n",
       "                        <td id=\"T_19134_row17_col1\" class=\"data row17 col1\" >0.315856</td>\n",
       "            </tr>\n",
       "            <tr>\n",
       "                        <th id=\"T_19134_level0_row18\" class=\"row_heading level0 row18\" >18</th>\n",
       "                        <td id=\"T_19134_row18_col0\" class=\"data row18 col0\" >HalfBath</td>\n",
       "                        <td id=\"T_19134_row18_col1\" class=\"data row18 col1\" >0.284108</td>\n",
       "            </tr>\n",
       "            <tr>\n",
       "                        <th id=\"T_19134_level0_row19\" class=\"row_heading level0 row19\" >19</th>\n",
       "                        <td id=\"T_19134_row19_col0\" class=\"data row19 col0\" >LotArea</td>\n",
       "                        <td id=\"T_19134_row19_col1\" class=\"data row19 col1\" >0.263843</td>\n",
       "            </tr>\n",
       "            <tr>\n",
       "                        <th id=\"T_19134_level0_row20\" class=\"row_heading level0 row20\" >20</th>\n",
       "                        <td id=\"T_19134_row20_col0\" class=\"data row20 col0\" >BsmtFullBath</td>\n",
       "                        <td id=\"T_19134_row20_col1\" class=\"data row20 col1\" >0.227122</td>\n",
       "            </tr>\n",
       "            <tr>\n",
       "                        <th id=\"T_19134_level0_row21\" class=\"row_heading level0 row21\" >21</th>\n",
       "                        <td id=\"T_19134_row21_col0\" class=\"data row21 col0\" >BsmtUnfSF</td>\n",
       "                        <td id=\"T_19134_row21_col1\" class=\"data row21 col1\" >0.214479</td>\n",
       "            </tr>\n",
       "            <tr>\n",
       "                        <th id=\"T_19134_level0_row22\" class=\"row_heading level0 row22\" >22</th>\n",
       "                        <td id=\"T_19134_row22_col0\" class=\"data row22 col0\" >BedroomAbvGr</td>\n",
       "                        <td id=\"T_19134_row22_col1\" class=\"data row22 col1\" >0.168213</td>\n",
       "            </tr>\n",
       "            <tr>\n",
       "                        <th id=\"T_19134_level0_row23\" class=\"row_heading level0 row23\" >23</th>\n",
       "                        <td id=\"T_19134_row23_col0\" class=\"data row23 col0\" >ScreenPorch</td>\n",
       "                        <td id=\"T_19134_row23_col1\" class=\"data row23 col1\" >0.111447</td>\n",
       "            </tr>\n",
       "            <tr>\n",
       "                        <th id=\"T_19134_level0_row24\" class=\"row_heading level0 row24\" >24</th>\n",
       "                        <td id=\"T_19134_row24_col0\" class=\"data row24 col0\" >PoolArea</td>\n",
       "                        <td id=\"T_19134_row24_col1\" class=\"data row24 col1\" >0.092404</td>\n",
       "            </tr>\n",
       "            <tr>\n",
       "                        <th id=\"T_19134_level0_row25\" class=\"row_heading level0 row25\" >25</th>\n",
       "                        <td id=\"T_19134_row25_col0\" class=\"data row25 col0\" >MoSold</td>\n",
       "                        <td id=\"T_19134_row25_col1\" class=\"data row25 col1\" >0.046432</td>\n",
       "            </tr>\n",
       "            <tr>\n",
       "                        <th id=\"T_19134_level0_row26\" class=\"row_heading level0 row26\" >26</th>\n",
       "                        <td id=\"T_19134_row26_col0\" class=\"data row26 col0\" >3SsnPorch</td>\n",
       "                        <td id=\"T_19134_row26_col1\" class=\"data row26 col1\" >0.044584</td>\n",
       "            </tr>\n",
       "            <tr>\n",
       "                        <th id=\"T_19134_level0_row27\" class=\"row_heading level0 row27\" >27</th>\n",
       "                        <td id=\"T_19134_row27_col0\" class=\"data row27 col0\" >BsmtFinSF2</td>\n",
       "                        <td id=\"T_19134_row27_col1\" class=\"data row27 col1\" >-0.011378</td>\n",
       "            </tr>\n",
       "            <tr>\n",
       "                        <th id=\"T_19134_level0_row28\" class=\"row_heading level0 row28\" >28</th>\n",
       "                        <td id=\"T_19134_row28_col0\" class=\"data row28 col0\" >BsmtHalfBath</td>\n",
       "                        <td id=\"T_19134_row28_col1\" class=\"data row28 col1\" >-0.016844</td>\n",
       "            </tr>\n",
       "            <tr>\n",
       "                        <th id=\"T_19134_level0_row29\" class=\"row_heading level0 row29\" >29</th>\n",
       "                        <td id=\"T_19134_row29_col0\" class=\"data row29 col0\" >MiscVal</td>\n",
       "                        <td id=\"T_19134_row29_col1\" class=\"data row29 col1\" >-0.021190</td>\n",
       "            </tr>\n",
       "            <tr>\n",
       "                        <th id=\"T_19134_level0_row30\" class=\"row_heading level0 row30\" >30</th>\n",
       "                        <td id=\"T_19134_row30_col0\" class=\"data row30 col0\" >Id</td>\n",
       "                        <td id=\"T_19134_row30_col1\" class=\"data row30 col1\" >-0.021917</td>\n",
       "            </tr>\n",
       "            <tr>\n",
       "                        <th id=\"T_19134_level0_row31\" class=\"row_heading level0 row31\" >31</th>\n",
       "                        <td id=\"T_19134_row31_col0\" class=\"data row31 col0\" >LowQualFinSF</td>\n",
       "                        <td id=\"T_19134_row31_col1\" class=\"data row31 col1\" >-0.025606</td>\n",
       "            </tr>\n",
       "            <tr>\n",
       "                        <th id=\"T_19134_level0_row32\" class=\"row_heading level0 row32\" >32</th>\n",
       "                        <td id=\"T_19134_row32_col0\" class=\"data row32 col0\" >YrSold</td>\n",
       "                        <td id=\"T_19134_row32_col1\" class=\"data row32 col1\" >-0.028923</td>\n",
       "            </tr>\n",
       "            <tr>\n",
       "                        <th id=\"T_19134_level0_row33\" class=\"row_heading level0 row33\" >33</th>\n",
       "                        <td id=\"T_19134_row33_col0\" class=\"data row33 col0\" >OverallCond</td>\n",
       "                        <td id=\"T_19134_row33_col1\" class=\"data row33 col1\" >-0.077856</td>\n",
       "            </tr>\n",
       "            <tr>\n",
       "                        <th id=\"T_19134_level0_row34\" class=\"row_heading level0 row34\" >34</th>\n",
       "                        <td id=\"T_19134_row34_col0\" class=\"data row34 col0\" >MSSubClass</td>\n",
       "                        <td id=\"T_19134_row34_col1\" class=\"data row34 col1\" >-0.084284</td>\n",
       "            </tr>\n",
       "            <tr>\n",
       "                        <th id=\"T_19134_level0_row35\" class=\"row_heading level0 row35\" >35</th>\n",
       "                        <td id=\"T_19134_row35_col0\" class=\"data row35 col0\" >EnclosedPorch</td>\n",
       "                        <td id=\"T_19134_row35_col1\" class=\"data row35 col1\" >-0.128578</td>\n",
       "            </tr>\n",
       "            <tr>\n",
       "                        <th id=\"T_19134_level0_row36\" class=\"row_heading level0 row36\" >36</th>\n",
       "                        <td id=\"T_19134_row36_col0\" class=\"data row36 col0\" >KitchenAbvGr</td>\n",
       "                        <td id=\"T_19134_row36_col1\" class=\"data row36 col1\" >-0.135907</td>\n",
       "            </tr>\n",
       "    </tbody></table>"
      ],
      "text/plain": [
       "<pandas.io.formats.style.Styler at 0x7ff9db876fd0>"
      ]
     },
     "execution_count": 63,
     "metadata": {},
     "output_type": "execute_result"
    }
   ],
   "source": [
    "corr_visual = train.corr().drop('SalePrice').sort_values('SalePrice',ascending=False)['SalePrice']\n",
    "pd.DataFrame({\"Features\": corr_visual.index, \"SalePrice_Correlation\": corr_visual.values}).style.background_gradient(cmap = 'Reds')"
   ]
  },
  {
   "cell_type": "code",
   "execution_count": 64,
   "id": "48029de0",
   "metadata": {},
   "outputs": [
    {
     "data": {
      "text/html": [
       "<style  type=\"text/css\" >\n",
       "#T_cb05a_row0_col1{\n",
       "            background-color:  #08306b;\n",
       "            color:  #f1f1f1;\n",
       "        }#T_cb05a_row1_col1{\n",
       "            background-color:  #083877;\n",
       "            color:  #f1f1f1;\n",
       "        }#T_cb05a_row2_col1{\n",
       "            background-color:  #083e81;\n",
       "            color:  #f1f1f1;\n",
       "        }#T_cb05a_row3_col1{\n",
       "            background-color:  #1561a9;\n",
       "            color:  #f1f1f1;\n",
       "        }#T_cb05a_row4_col1{\n",
       "            background-color:  #75b4d8;\n",
       "            color:  #000000;\n",
       "        }#T_cb05a_row5_col1{\n",
       "            background-color:  #d4e4f4;\n",
       "            color:  #000000;\n",
       "        }#T_cb05a_row6_col1,#T_cb05a_row7_col1,#T_cb05a_row8_col1,#T_cb05a_row9_col1,#T_cb05a_row10_col1{\n",
       "            background-color:  #ecf4fb;\n",
       "            color:  #000000;\n",
       "        }#T_cb05a_row11_col1,#T_cb05a_row12_col1,#T_cb05a_row13_col1,#T_cb05a_row14_col1,#T_cb05a_row15_col1{\n",
       "            background-color:  #f2f8fd;\n",
       "            color:  #000000;\n",
       "        }#T_cb05a_row16_col1,#T_cb05a_row17_col1{\n",
       "            background-color:  #f6faff;\n",
       "            color:  #000000;\n",
       "        }#T_cb05a_row18_col1{\n",
       "            background-color:  #f7fbff;\n",
       "            color:  #000000;\n",
       "        }</style><table id=\"T_cb05a_\" ><thead>    <tr>        <th class=\"blank level0\" ></th>        <th class=\"col_heading level0 col0\" >Features</th>        <th class=\"col_heading level0 col1\" >Null_Value_Percentage</th>    </tr></thead><tbody>\n",
       "                <tr>\n",
       "                        <th id=\"T_cb05a_level0_row0\" class=\"row_heading level0 row0\" >0</th>\n",
       "                        <td id=\"T_cb05a_row0_col0\" class=\"data row0 col0\" >PoolQC</td>\n",
       "                        <td id=\"T_cb05a_row0_col1\" class=\"data row0 col1\" >99.520548</td>\n",
       "            </tr>\n",
       "            <tr>\n",
       "                        <th id=\"T_cb05a_level0_row1\" class=\"row_heading level0 row1\" >1</th>\n",
       "                        <td id=\"T_cb05a_row1_col0\" class=\"data row1 col0\" >MiscFeature</td>\n",
       "                        <td id=\"T_cb05a_row1_col1\" class=\"data row1 col1\" >96.301370</td>\n",
       "            </tr>\n",
       "            <tr>\n",
       "                        <th id=\"T_cb05a_level0_row2\" class=\"row_heading level0 row2\" >2</th>\n",
       "                        <td id=\"T_cb05a_row2_col0\" class=\"data row2 col0\" >Alley</td>\n",
       "                        <td id=\"T_cb05a_row2_col1\" class=\"data row2 col1\" >93.767123</td>\n",
       "            </tr>\n",
       "            <tr>\n",
       "                        <th id=\"T_cb05a_level0_row3\" class=\"row_heading level0 row3\" >3</th>\n",
       "                        <td id=\"T_cb05a_row3_col0\" class=\"data row3 col0\" >Fence</td>\n",
       "                        <td id=\"T_cb05a_row3_col1\" class=\"data row3 col1\" >80.753425</td>\n",
       "            </tr>\n",
       "            <tr>\n",
       "                        <th id=\"T_cb05a_level0_row4\" class=\"row_heading level0 row4\" >4</th>\n",
       "                        <td id=\"T_cb05a_row4_col0\" class=\"data row4 col0\" >FireplaceQu</td>\n",
       "                        <td id=\"T_cb05a_row4_col1\" class=\"data row4 col1\" >47.260274</td>\n",
       "            </tr>\n",
       "            <tr>\n",
       "                        <th id=\"T_cb05a_level0_row5\" class=\"row_heading level0 row5\" >5</th>\n",
       "                        <td id=\"T_cb05a_row5_col0\" class=\"data row5 col0\" >LotFrontage</td>\n",
       "                        <td id=\"T_cb05a_row5_col1\" class=\"data row5 col1\" >17.739726</td>\n",
       "            </tr>\n",
       "            <tr>\n",
       "                        <th id=\"T_cb05a_level0_row6\" class=\"row_heading level0 row6\" >6</th>\n",
       "                        <td id=\"T_cb05a_row6_col0\" class=\"data row6 col0\" >GarageYrBlt</td>\n",
       "                        <td id=\"T_cb05a_row6_col1\" class=\"data row6 col1\" >5.547945</td>\n",
       "            </tr>\n",
       "            <tr>\n",
       "                        <th id=\"T_cb05a_level0_row7\" class=\"row_heading level0 row7\" >7</th>\n",
       "                        <td id=\"T_cb05a_row7_col0\" class=\"data row7 col0\" >GarageCond</td>\n",
       "                        <td id=\"T_cb05a_row7_col1\" class=\"data row7 col1\" >5.547945</td>\n",
       "            </tr>\n",
       "            <tr>\n",
       "                        <th id=\"T_cb05a_level0_row8\" class=\"row_heading level0 row8\" >8</th>\n",
       "                        <td id=\"T_cb05a_row8_col0\" class=\"data row8 col0\" >GarageType</td>\n",
       "                        <td id=\"T_cb05a_row8_col1\" class=\"data row8 col1\" >5.547945</td>\n",
       "            </tr>\n",
       "            <tr>\n",
       "                        <th id=\"T_cb05a_level0_row9\" class=\"row_heading level0 row9\" >9</th>\n",
       "                        <td id=\"T_cb05a_row9_col0\" class=\"data row9 col0\" >GarageFinish</td>\n",
       "                        <td id=\"T_cb05a_row9_col1\" class=\"data row9 col1\" >5.547945</td>\n",
       "            </tr>\n",
       "            <tr>\n",
       "                        <th id=\"T_cb05a_level0_row10\" class=\"row_heading level0 row10\" >10</th>\n",
       "                        <td id=\"T_cb05a_row10_col0\" class=\"data row10 col0\" >GarageQual</td>\n",
       "                        <td id=\"T_cb05a_row10_col1\" class=\"data row10 col1\" >5.547945</td>\n",
       "            </tr>\n",
       "            <tr>\n",
       "                        <th id=\"T_cb05a_level0_row11\" class=\"row_heading level0 row11\" >11</th>\n",
       "                        <td id=\"T_cb05a_row11_col0\" class=\"data row11 col0\" >BsmtFinType2</td>\n",
       "                        <td id=\"T_cb05a_row11_col1\" class=\"data row11 col1\" >2.602740</td>\n",
       "            </tr>\n",
       "            <tr>\n",
       "                        <th id=\"T_cb05a_level0_row12\" class=\"row_heading level0 row12\" >12</th>\n",
       "                        <td id=\"T_cb05a_row12_col0\" class=\"data row12 col0\" >BsmtExposure</td>\n",
       "                        <td id=\"T_cb05a_row12_col1\" class=\"data row12 col1\" >2.602740</td>\n",
       "            </tr>\n",
       "            <tr>\n",
       "                        <th id=\"T_cb05a_level0_row13\" class=\"row_heading level0 row13\" >13</th>\n",
       "                        <td id=\"T_cb05a_row13_col0\" class=\"data row13 col0\" >BsmtQual</td>\n",
       "                        <td id=\"T_cb05a_row13_col1\" class=\"data row13 col1\" >2.534247</td>\n",
       "            </tr>\n",
       "            <tr>\n",
       "                        <th id=\"T_cb05a_level0_row14\" class=\"row_heading level0 row14\" >14</th>\n",
       "                        <td id=\"T_cb05a_row14_col0\" class=\"data row14 col0\" >BsmtCond</td>\n",
       "                        <td id=\"T_cb05a_row14_col1\" class=\"data row14 col1\" >2.534247</td>\n",
       "            </tr>\n",
       "            <tr>\n",
       "                        <th id=\"T_cb05a_level0_row15\" class=\"row_heading level0 row15\" >15</th>\n",
       "                        <td id=\"T_cb05a_row15_col0\" class=\"data row15 col0\" >BsmtFinType1</td>\n",
       "                        <td id=\"T_cb05a_row15_col1\" class=\"data row15 col1\" >2.534247</td>\n",
       "            </tr>\n",
       "            <tr>\n",
       "                        <th id=\"T_cb05a_level0_row16\" class=\"row_heading level0 row16\" >16</th>\n",
       "                        <td id=\"T_cb05a_row16_col0\" class=\"data row16 col0\" >MasVnrArea</td>\n",
       "                        <td id=\"T_cb05a_row16_col1\" class=\"data row16 col1\" >0.547945</td>\n",
       "            </tr>\n",
       "            <tr>\n",
       "                        <th id=\"T_cb05a_level0_row17\" class=\"row_heading level0 row17\" >17</th>\n",
       "                        <td id=\"T_cb05a_row17_col0\" class=\"data row17 col0\" >MasVnrType</td>\n",
       "                        <td id=\"T_cb05a_row17_col1\" class=\"data row17 col1\" >0.547945</td>\n",
       "            </tr>\n",
       "            <tr>\n",
       "                        <th id=\"T_cb05a_level0_row18\" class=\"row_heading level0 row18\" >18</th>\n",
       "                        <td id=\"T_cb05a_row18_col0\" class=\"data row18 col0\" >Electrical</td>\n",
       "                        <td id=\"T_cb05a_row18_col1\" class=\"data row18 col1\" >0.068493</td>\n",
       "            </tr>\n",
       "    </tbody></table>"
      ],
      "text/plain": [
       "<pandas.io.formats.style.Styler at 0x7ff9e8c39040>"
      ]
     },
     "execution_count": 64,
     "metadata": {},
     "output_type": "execute_result"
    }
   ],
   "source": [
    "Nullpercent = train.isnull().sum().sort_values(ascending = False) / len(train) * 100\n",
    "Nullpercent = Nullpercent[Nullpercent > 0]\n",
    "null_df = pd.DataFrame({'Features': Nullpercent.index, 'Null_Value_Percentage': Nullpercent.values}).style.background_gradient(cmap='Blues')\n",
    "null_df"
   ]
  },
  {
   "cell_type": "code",
   "execution_count": 65,
   "id": "313638ea",
   "metadata": {},
   "outputs": [
    {
     "data": {
      "text/html": [
       "<style  type=\"text/css\" >\n",
       "#T_4b6f9_row0_col1{\n",
       "            background-color:  #08306b;\n",
       "            color:  #f1f1f1;\n",
       "        }#T_4b6f9_row1_col1{\n",
       "            background-color:  #083877;\n",
       "            color:  #f1f1f1;\n",
       "        }#T_4b6f9_row2_col1{\n",
       "            background-color:  #084387;\n",
       "            color:  #f1f1f1;\n",
       "        }#T_4b6f9_row3_col1{\n",
       "            background-color:  #1663aa;\n",
       "            color:  #f1f1f1;\n",
       "        }#T_4b6f9_row4_col1{\n",
       "            background-color:  #6aaed6;\n",
       "            color:  #000000;\n",
       "        }#T_4b6f9_row5_col1{\n",
       "            background-color:  #d9e7f5;\n",
       "            color:  #000000;\n",
       "        }#T_4b6f9_row6_col1,#T_4b6f9_row7_col1,#T_4b6f9_row8_col1,#T_4b6f9_row9_col1,#T_4b6f9_row10_col1{\n",
       "            background-color:  #edf4fc;\n",
       "            color:  #000000;\n",
       "        }#T_4b6f9_row11_col1,#T_4b6f9_row12_col1,#T_4b6f9_row13_col1,#T_4b6f9_row14_col1,#T_4b6f9_row15_col1{\n",
       "            background-color:  #f2f7fd;\n",
       "            color:  #000000;\n",
       "        }#T_4b6f9_row16_col1,#T_4b6f9_row17_col1{\n",
       "            background-color:  #f5fafe;\n",
       "            color:  #000000;\n",
       "        }#T_4b6f9_row18_col1,#T_4b6f9_row19_col1,#T_4b6f9_row20_col1,#T_4b6f9_row21_col1,#T_4b6f9_row22_col1,#T_4b6f9_row23_col1,#T_4b6f9_row24_col1,#T_4b6f9_row25_col1,#T_4b6f9_row26_col1,#T_4b6f9_row27_col1,#T_4b6f9_row28_col1,#T_4b6f9_row29_col1,#T_4b6f9_row30_col1,#T_4b6f9_row31_col1,#T_4b6f9_row32_col1{\n",
       "            background-color:  #f7fbff;\n",
       "            color:  #000000;\n",
       "        }</style><table id=\"T_4b6f9_\" ><thead>    <tr>        <th class=\"blank level0\" ></th>        <th class=\"col_heading level0 col0\" >Features</th>        <th class=\"col_heading level0 col1\" >Null_Value_Percentage</th>    </tr></thead><tbody>\n",
       "                <tr>\n",
       "                        <th id=\"T_4b6f9_level0_row0\" class=\"row_heading level0 row0\" >0</th>\n",
       "                        <td id=\"T_4b6f9_row0_col0\" class=\"data row0 col0\" >PoolQC</td>\n",
       "                        <td id=\"T_4b6f9_row0_col1\" class=\"data row0 col1\" >99.794380</td>\n",
       "            </tr>\n",
       "            <tr>\n",
       "                        <th id=\"T_4b6f9_level0_row1\" class=\"row_heading level0 row1\" >1</th>\n",
       "                        <td id=\"T_4b6f9_row1_col0\" class=\"data row1 col0\" >MiscFeature</td>\n",
       "                        <td id=\"T_4b6f9_row1_col1\" class=\"data row1 col1\" >96.504455</td>\n",
       "            </tr>\n",
       "            <tr>\n",
       "                        <th id=\"T_4b6f9_level0_row2\" class=\"row_heading level0 row2\" >2</th>\n",
       "                        <td id=\"T_4b6f9_row2_col0\" class=\"data row2 col0\" >Alley</td>\n",
       "                        <td id=\"T_4b6f9_row2_col1\" class=\"data row2 col1\" >92.666210</td>\n",
       "            </tr>\n",
       "            <tr>\n",
       "                        <th id=\"T_4b6f9_level0_row3\" class=\"row_heading level0 row3\" >3</th>\n",
       "                        <td id=\"T_4b6f9_row3_col0\" class=\"data row3 col0\" >Fence</td>\n",
       "                        <td id=\"T_4b6f9_row3_col1\" class=\"data row3 col1\" >80.123372</td>\n",
       "            </tr>\n",
       "            <tr>\n",
       "                        <th id=\"T_4b6f9_level0_row4\" class=\"row_heading level0 row4\" >4</th>\n",
       "                        <td id=\"T_4b6f9_row4_col0\" class=\"data row4 col0\" >FireplaceQu</td>\n",
       "                        <td id=\"T_4b6f9_row4_col1\" class=\"data row4 col1\" >50.034270</td>\n",
       "            </tr>\n",
       "            <tr>\n",
       "                        <th id=\"T_4b6f9_level0_row5\" class=\"row_heading level0 row5\" >5</th>\n",
       "                        <td id=\"T_4b6f9_row5_col0\" class=\"data row5 col0\" >LotFrontage</td>\n",
       "                        <td id=\"T_4b6f9_row5_col1\" class=\"data row5 col1\" >15.558602</td>\n",
       "            </tr>\n",
       "            <tr>\n",
       "                        <th id=\"T_4b6f9_level0_row6\" class=\"row_heading level0 row6\" >6</th>\n",
       "                        <td id=\"T_4b6f9_row6_col0\" class=\"data row6 col0\" >GarageYrBlt</td>\n",
       "                        <td id=\"T_4b6f9_row6_col1\" class=\"data row6 col1\" >5.346127</td>\n",
       "            </tr>\n",
       "            <tr>\n",
       "                        <th id=\"T_4b6f9_level0_row7\" class=\"row_heading level0 row7\" >7</th>\n",
       "                        <td id=\"T_4b6f9_row7_col0\" class=\"data row7 col0\" >GarageQual</td>\n",
       "                        <td id=\"T_4b6f9_row7_col1\" class=\"data row7 col1\" >5.346127</td>\n",
       "            </tr>\n",
       "            <tr>\n",
       "                        <th id=\"T_4b6f9_level0_row8\" class=\"row_heading level0 row8\" >8</th>\n",
       "                        <td id=\"T_4b6f9_row8_col0\" class=\"data row8 col0\" >GarageFinish</td>\n",
       "                        <td id=\"T_4b6f9_row8_col1\" class=\"data row8 col1\" >5.346127</td>\n",
       "            </tr>\n",
       "            <tr>\n",
       "                        <th id=\"T_4b6f9_level0_row9\" class=\"row_heading level0 row9\" >9</th>\n",
       "                        <td id=\"T_4b6f9_row9_col0\" class=\"data row9 col0\" >GarageCond</td>\n",
       "                        <td id=\"T_4b6f9_row9_col1\" class=\"data row9 col1\" >5.346127</td>\n",
       "            </tr>\n",
       "            <tr>\n",
       "                        <th id=\"T_4b6f9_level0_row10\" class=\"row_heading level0 row10\" >10</th>\n",
       "                        <td id=\"T_4b6f9_row10_col0\" class=\"data row10 col0\" >GarageType</td>\n",
       "                        <td id=\"T_4b6f9_row10_col1\" class=\"data row10 col1\" >5.209047</td>\n",
       "            </tr>\n",
       "            <tr>\n",
       "                        <th id=\"T_4b6f9_level0_row11\" class=\"row_heading level0 row11\" >11</th>\n",
       "                        <td id=\"T_4b6f9_row11_col0\" class=\"data row11 col0\" >BsmtCond</td>\n",
       "                        <td id=\"T_4b6f9_row11_col1\" class=\"data row11 col1\" >3.084304</td>\n",
       "            </tr>\n",
       "            <tr>\n",
       "                        <th id=\"T_4b6f9_level0_row12\" class=\"row_heading level0 row12\" >12</th>\n",
       "                        <td id=\"T_4b6f9_row12_col0\" class=\"data row12 col0\" >BsmtQual</td>\n",
       "                        <td id=\"T_4b6f9_row12_col1\" class=\"data row12 col1\" >3.015764</td>\n",
       "            </tr>\n",
       "            <tr>\n",
       "                        <th id=\"T_4b6f9_level0_row13\" class=\"row_heading level0 row13\" >13</th>\n",
       "                        <td id=\"T_4b6f9_row13_col0\" class=\"data row13 col0\" >BsmtExposure</td>\n",
       "                        <td id=\"T_4b6f9_row13_col1\" class=\"data row13 col1\" >3.015764</td>\n",
       "            </tr>\n",
       "            <tr>\n",
       "                        <th id=\"T_4b6f9_level0_row14\" class=\"row_heading level0 row14\" >14</th>\n",
       "                        <td id=\"T_4b6f9_row14_col0\" class=\"data row14 col0\" >BsmtFinType1</td>\n",
       "                        <td id=\"T_4b6f9_row14_col1\" class=\"data row14 col1\" >2.878684</td>\n",
       "            </tr>\n",
       "            <tr>\n",
       "                        <th id=\"T_4b6f9_level0_row15\" class=\"row_heading level0 row15\" >15</th>\n",
       "                        <td id=\"T_4b6f9_row15_col0\" class=\"data row15 col0\" >BsmtFinType2</td>\n",
       "                        <td id=\"T_4b6f9_row15_col1\" class=\"data row15 col1\" >2.878684</td>\n",
       "            </tr>\n",
       "            <tr>\n",
       "                        <th id=\"T_4b6f9_level0_row16\" class=\"row_heading level0 row16\" >16</th>\n",
       "                        <td id=\"T_4b6f9_row16_col0\" class=\"data row16 col0\" >MasVnrType</td>\n",
       "                        <td id=\"T_4b6f9_row16_col1\" class=\"data row16 col1\" >1.096642</td>\n",
       "            </tr>\n",
       "            <tr>\n",
       "                        <th id=\"T_4b6f9_level0_row17\" class=\"row_heading level0 row17\" >17</th>\n",
       "                        <td id=\"T_4b6f9_row17_col0\" class=\"data row17 col0\" >MasVnrArea</td>\n",
       "                        <td id=\"T_4b6f9_row17_col1\" class=\"data row17 col1\" >1.028101</td>\n",
       "            </tr>\n",
       "            <tr>\n",
       "                        <th id=\"T_4b6f9_level0_row18\" class=\"row_heading level0 row18\" >18</th>\n",
       "                        <td id=\"T_4b6f9_row18_col0\" class=\"data row18 col0\" >MSZoning</td>\n",
       "                        <td id=\"T_4b6f9_row18_col1\" class=\"data row18 col1\" >0.274160</td>\n",
       "            </tr>\n",
       "            <tr>\n",
       "                        <th id=\"T_4b6f9_level0_row19\" class=\"row_heading level0 row19\" >19</th>\n",
       "                        <td id=\"T_4b6f9_row19_col0\" class=\"data row19 col0\" >BsmtHalfBath</td>\n",
       "                        <td id=\"T_4b6f9_row19_col1\" class=\"data row19 col1\" >0.137080</td>\n",
       "            </tr>\n",
       "            <tr>\n",
       "                        <th id=\"T_4b6f9_level0_row20\" class=\"row_heading level0 row20\" >20</th>\n",
       "                        <td id=\"T_4b6f9_row20_col0\" class=\"data row20 col0\" >Utilities</td>\n",
       "                        <td id=\"T_4b6f9_row20_col1\" class=\"data row20 col1\" >0.137080</td>\n",
       "            </tr>\n",
       "            <tr>\n",
       "                        <th id=\"T_4b6f9_level0_row21\" class=\"row_heading level0 row21\" >21</th>\n",
       "                        <td id=\"T_4b6f9_row21_col0\" class=\"data row21 col0\" >Functional</td>\n",
       "                        <td id=\"T_4b6f9_row21_col1\" class=\"data row21 col1\" >0.137080</td>\n",
       "            </tr>\n",
       "            <tr>\n",
       "                        <th id=\"T_4b6f9_level0_row22\" class=\"row_heading level0 row22\" >22</th>\n",
       "                        <td id=\"T_4b6f9_row22_col0\" class=\"data row22 col0\" >BsmtFullBath</td>\n",
       "                        <td id=\"T_4b6f9_row22_col1\" class=\"data row22 col1\" >0.137080</td>\n",
       "            </tr>\n",
       "            <tr>\n",
       "                        <th id=\"T_4b6f9_level0_row23\" class=\"row_heading level0 row23\" >23</th>\n",
       "                        <td id=\"T_4b6f9_row23_col0\" class=\"data row23 col0\" >BsmtFinSF1</td>\n",
       "                        <td id=\"T_4b6f9_row23_col1\" class=\"data row23 col1\" >0.068540</td>\n",
       "            </tr>\n",
       "            <tr>\n",
       "                        <th id=\"T_4b6f9_level0_row24\" class=\"row_heading level0 row24\" >24</th>\n",
       "                        <td id=\"T_4b6f9_row24_col0\" class=\"data row24 col0\" >BsmtFinSF2</td>\n",
       "                        <td id=\"T_4b6f9_row24_col1\" class=\"data row24 col1\" >0.068540</td>\n",
       "            </tr>\n",
       "            <tr>\n",
       "                        <th id=\"T_4b6f9_level0_row25\" class=\"row_heading level0 row25\" >25</th>\n",
       "                        <td id=\"T_4b6f9_row25_col0\" class=\"data row25 col0\" >BsmtUnfSF</td>\n",
       "                        <td id=\"T_4b6f9_row25_col1\" class=\"data row25 col1\" >0.068540</td>\n",
       "            </tr>\n",
       "            <tr>\n",
       "                        <th id=\"T_4b6f9_level0_row26\" class=\"row_heading level0 row26\" >26</th>\n",
       "                        <td id=\"T_4b6f9_row26_col0\" class=\"data row26 col0\" >KitchenQual</td>\n",
       "                        <td id=\"T_4b6f9_row26_col1\" class=\"data row26 col1\" >0.068540</td>\n",
       "            </tr>\n",
       "            <tr>\n",
       "                        <th id=\"T_4b6f9_level0_row27\" class=\"row_heading level0 row27\" >27</th>\n",
       "                        <td id=\"T_4b6f9_row27_col0\" class=\"data row27 col0\" >TotalBsmtSF</td>\n",
       "                        <td id=\"T_4b6f9_row27_col1\" class=\"data row27 col1\" >0.068540</td>\n",
       "            </tr>\n",
       "            <tr>\n",
       "                        <th id=\"T_4b6f9_level0_row28\" class=\"row_heading level0 row28\" >28</th>\n",
       "                        <td id=\"T_4b6f9_row28_col0\" class=\"data row28 col0\" >Exterior2nd</td>\n",
       "                        <td id=\"T_4b6f9_row28_col1\" class=\"data row28 col1\" >0.068540</td>\n",
       "            </tr>\n",
       "            <tr>\n",
       "                        <th id=\"T_4b6f9_level0_row29\" class=\"row_heading level0 row29\" >29</th>\n",
       "                        <td id=\"T_4b6f9_row29_col0\" class=\"data row29 col0\" >GarageCars</td>\n",
       "                        <td id=\"T_4b6f9_row29_col1\" class=\"data row29 col1\" >0.068540</td>\n",
       "            </tr>\n",
       "            <tr>\n",
       "                        <th id=\"T_4b6f9_level0_row30\" class=\"row_heading level0 row30\" >30</th>\n",
       "                        <td id=\"T_4b6f9_row30_col0\" class=\"data row30 col0\" >Exterior1st</td>\n",
       "                        <td id=\"T_4b6f9_row30_col1\" class=\"data row30 col1\" >0.068540</td>\n",
       "            </tr>\n",
       "            <tr>\n",
       "                        <th id=\"T_4b6f9_level0_row31\" class=\"row_heading level0 row31\" >31</th>\n",
       "                        <td id=\"T_4b6f9_row31_col0\" class=\"data row31 col0\" >GarageArea</td>\n",
       "                        <td id=\"T_4b6f9_row31_col1\" class=\"data row31 col1\" >0.068540</td>\n",
       "            </tr>\n",
       "            <tr>\n",
       "                        <th id=\"T_4b6f9_level0_row32\" class=\"row_heading level0 row32\" >32</th>\n",
       "                        <td id=\"T_4b6f9_row32_col0\" class=\"data row32 col0\" >SaleType</td>\n",
       "                        <td id=\"T_4b6f9_row32_col1\" class=\"data row32 col1\" >0.068540</td>\n",
       "            </tr>\n",
       "    </tbody></table>"
      ],
      "text/plain": [
       "<pandas.io.formats.style.Styler at 0x7ff9dbb89d30>"
      ]
     },
     "execution_count": 65,
     "metadata": {},
     "output_type": "execute_result"
    }
   ],
   "source": [
    "Nullpercent = test.isnull().sum().sort_values(ascending = False) / len(test) * 100\n",
    "Nullpercent = Nullpercent[Nullpercent > 0]\n",
    "null_df = pd.DataFrame({'Features': Nullpercent.index, 'Null_Value_Percentage': Nullpercent.values}).style.background_gradient(cmap='Blues')\n",
    "null_df"
   ]
  },
  {
   "cell_type": "code",
   "execution_count": 66,
   "id": "3dc52942",
   "metadata": {},
   "outputs": [],
   "source": [
    "NA_columns = ['PoolQC','MiscFeature', 'Alley', 'Fence']\n",
    "train.drop(NA_columns, inplace = True, axis = 1)\n",
    "test.drop(NA_columns, inplace = True, axis = 1)\n",
    "#too many null values, so dropped these specific columns"
   ]
  },
  {
   "cell_type": "markdown",
   "id": "7eafa2f0",
   "metadata": {},
   "source": [
    "#### Replacing Missing Data "
   ]
  },
  {
   "cell_type": "code",
   "execution_count": 67,
   "id": "d3119a0a",
   "metadata": {},
   "outputs": [],
   "source": [
    "#Categorical Columns\n",
    "categorical_train_columns = [\"BsmtCond\", \"BsmtQual\", \"GarageType\", \"GarageCond\", \"GarageFinish\",\n",
    "                 \"GarageQual\",\"MasVnrType\",\"BsmtFinType2\",\"BsmtExposure\",\"FireplaceQu\",\"MasVnrArea\"]\n",
    "\n",
    "for i in categorical_train_columns:\n",
    "    train[i] = train[i].fillna(train[i].mode()[0])\n",
    "    test[i] = test[i].fillna(train[i].mode()[0])"
   ]
  },
  {
   "cell_type": "code",
   "execution_count": 68,
   "id": "555c6192",
   "metadata": {},
   "outputs": [],
   "source": [
    "train['LotFrontage'].fillna(train['LotFrontage'].mean(),inplace=True)\n",
    "test['LotFrontage'].fillna(test['LotFrontage'].mean(),inplace=True)"
   ]
  },
  {
   "cell_type": "code",
   "execution_count": 69,
   "id": "f18a8bc1",
   "metadata": {},
   "outputs": [],
   "source": [
    "train['GarageYrBlt'].fillna(train['GarageYrBlt'].mean(),inplace=True)\n",
    "test['GarageYrBlt'].fillna(test['GarageYrBlt'].mean(),inplace=True)"
   ]
  },
  {
   "cell_type": "code",
   "execution_count": 70,
   "id": "b07e8e5e",
   "metadata": {},
   "outputs": [
    {
     "name": "stdout",
     "output_type": "stream",
     "text": [
      "BsmtFinType1    37\n",
      "Electrical       1\n",
      "dtype: int64\n",
      "BsmtFinType1    42\n",
      "MSZoning         4\n",
      "Functional       2\n",
      "BsmtFullBath     2\n",
      "BsmtHalfBath     2\n",
      "Utilities        2\n",
      "BsmtFinSF1       1\n",
      "Exterior1st      1\n",
      "KitchenQual      1\n",
      "GarageCars       1\n",
      "GarageArea       1\n",
      "Exterior2nd      1\n",
      "BsmtFinSF2       1\n",
      "BsmtUnfSF        1\n",
      "TotalBsmtSF      1\n",
      "SaleType         1\n",
      "dtype: int64\n"
     ]
    }
   ],
   "source": [
    "reassess_train = train.isnull().sum().sort_values(ascending=False)\n",
    "reassess_train = reassess_train[reassess_train > 0]\n",
    "print(reassess_train)\n",
    "reassess_test = test.isnull().sum().sort_values(ascending=False)\n",
    "reassess_test = reassess_test[reassess_test > 0]\n",
    "print(reassess_test)"
   ]
  },
  {
   "cell_type": "code",
   "execution_count": 71,
   "id": "86ee7275",
   "metadata": {},
   "outputs": [
    {
     "data": {
      "text/plain": [
       "array(['GLQ', 'ALQ', 'Unf', 'Rec', 'BLQ', 'LwQ'], dtype=object)"
      ]
     },
     "execution_count": 71,
     "metadata": {},
     "output_type": "execute_result"
    }
   ],
   "source": [
    "train['BsmtFinType1'].unique()\n",
    "train['BsmtFinType1'].fillna(train['BsmtFinType1'].mode()[0],inplace=True)\n",
    "test['BsmtFinType1'].fillna(test['BsmtFinType1'].mode()[0],inplace=True)\n",
    "train['BsmtFinType1'].unique()"
   ]
  },
  {
   "cell_type": "code",
   "execution_count": 72,
   "id": "c21af4a1",
   "metadata": {},
   "outputs": [],
   "source": [
    "train['Electrical'].unique()\n",
    "train['Electrical'].fillna(train['Electrical'].mode()[0],inplace=True)"
   ]
  },
  {
   "cell_type": "code",
   "execution_count": 73,
   "id": "b92eba7b",
   "metadata": {},
   "outputs": [
    {
     "data": {
      "text/plain": [
       "Id             0\n",
       "HalfBath       0\n",
       "FireplaceQu    0\n",
       "Fireplaces     0\n",
       "Functional     0\n",
       "              ..\n",
       "MasVnrArea     0\n",
       "MasVnrType     0\n",
       "Exterior2nd    0\n",
       "Exterior1st    0\n",
       "SalePrice      0\n",
       "Length: 77, dtype: int64"
      ]
     },
     "execution_count": 73,
     "metadata": {},
     "output_type": "execute_result"
    }
   ],
   "source": [
    "train.isnull().sum().sort_values(ascending=False)"
   ]
  },
  {
   "cell_type": "code",
   "execution_count": 74,
   "id": "bbf1ba24",
   "metadata": {},
   "outputs": [
    {
     "data": {
      "text/plain": [
       "MSZoning        4\n",
       "BsmtHalfBath    2\n",
       "Functional      2\n",
       "BsmtFullBath    2\n",
       "Utilities       2\n",
       "BsmtFinSF1      1\n",
       "Exterior1st     1\n",
       "KitchenQual     1\n",
       "GarageCars      1\n",
       "GarageArea      1\n",
       "Exterior2nd     1\n",
       "BsmtFinSF2      1\n",
       "BsmtUnfSF       1\n",
       "TotalBsmtSF     1\n",
       "SaleType        1\n",
       "dtype: int64"
      ]
     },
     "execution_count": 74,
     "metadata": {},
     "output_type": "execute_result"
    }
   ],
   "source": [
    "null_test = test.isnull().sum().sort_values(ascending=False)\n",
    "null_test = null_test[null_test > 0]\n",
    "null_test"
   ]
  },
  {
   "cell_type": "code",
   "execution_count": 75,
   "id": "7d2fc8b6",
   "metadata": {},
   "outputs": [],
   "source": [
    "categorical_test = ['MSZoning', 'BsmtHalfBath', 'Functional', 'Utilities','BsmtFullBath', 'SaleType', 'Exterior1st', \n",
    "           'Exterior2nd', 'KitchenQual']\n",
    "numerical_test = ['BsmtFinSF1', 'BsmtFinSF2', 'GarageCars', 'BsmtUnfSF',  'TotalBsmtSF', 'GarageArea',]\n",
    "\n",
    "for one_category in categorical_test:\n",
    "    test[one_category] = test[one_category].fillna(test[one_category].mode()[0])\n",
    "for one_numerical in numerical_test:\n",
    "    test[one_numerical] = test[one_numerical].fillna(test[one_numerical].mean())"
   ]
  },
  {
   "cell_type": "code",
   "execution_count": 76,
   "id": "61e61b45",
   "metadata": {},
   "outputs": [
    {
     "name": "stdout",
     "output_type": "stream",
     "text": [
      "Id               0\n",
      "FullBath         0\n",
      "Fireplaces       0\n",
      "Functional       0\n",
      "TotRmsAbvGrd     0\n",
      "                ..\n",
      "MasVnrType       0\n",
      "Exterior2nd      0\n",
      "Exterior1st      0\n",
      "RoofMatl         0\n",
      "SaleCondition    0\n",
      "Length: 76, dtype: int64\n"
     ]
    }
   ],
   "source": [
    "print(test.isnull().sum().sort_values(ascending=False))"
   ]
  },
  {
   "cell_type": "markdown",
   "id": "899c3447",
   "metadata": {},
   "source": [
    "### Visualization"
   ]
  },
  {
   "cell_type": "code",
   "execution_count": 77,
   "id": "095c9ff0",
   "metadata": {},
   "outputs": [
    {
     "data": {
      "image/png": "[encoded data removed]",
      "text/plain": [
       "<Figure size 1008x1008 with 2 Axes>"
      ]
     },
     "metadata": {
      "needs_background": "light"
     },
     "output_type": "display_data"
    }
   ],
   "source": [
    "#Correlation\n",
    "saleprice_correlation=train.corr().index[abs(train.corr()[\"SalePrice\"]) > 0.4]\n",
    "\n",
    "#Plotting the Correlation in HeatMap for columns where correlation value > 0.4\n",
    "plt.figure(figsize=(14,14))\n",
    "correlation_visual = sns.heatmap(train[saleprice_correlation].corr(),annot=True,cmap=\"OrRd\")"
   ]
  },
  {
   "cell_type": "code",
   "execution_count": 78,
   "id": "921dcc02",
   "metadata": {},
   "outputs": [
    {
     "data": {
      "text/plain": [
       "0.708624477612652"
      ]
     },
     "execution_count": 78,
     "metadata": {},
     "output_type": "execute_result"
    },
    {
     "data": {
      "image/png": "[encoded data removed]",
      "text/plain": [
       "<Figure size 432x288 with 1 Axes>"
      ]
     },
     "metadata": {
      "needs_background": "light"
     },
     "output_type": "display_data"
    }
   ],
   "source": [
    "sns.scatterplot(x = 'GrLivArea',y = 'SalePrice', data = train)\n",
    "train['SalePrice'].corr(train['GrLivArea'])"
   ]
  },
  {
   "cell_type": "code",
   "execution_count": 79,
   "id": "03d41adb",
   "metadata": {},
   "outputs": [
    {
     "data": {
      "text/plain": [
       "0.7349681645359328"
      ]
     },
     "execution_count": 79,
     "metadata": {},
     "output_type": "execute_result"
    }
   ],
   "source": [
    "#Dropping Outliers\n",
    "train = train.drop(train[(train['GrLivArea'] > 4000) & (train['SalePrice'] < 200000)].index)\n",
    "x = train['SalePrice']\n",
    "y = train['GrLivArea']\n",
    "x.corr(y)\n",
    "\n",
    "#Correlation increased"
   ]
  },
  {
   "cell_type": "markdown",
   "id": "dc0db47c",
   "metadata": {},
   "source": [
    "### Modeling"
   ]
  },
  {
   "cell_type": "code",
   "execution_count": 80,
   "id": "c35f63f4",
   "metadata": {},
   "outputs": [],
   "source": [
    "target = train['SalePrice']\n",
    "train.drop('Id', inplace = True, axis = 1)\n",
    "test.drop('Id', inplace = True, axis = 1)\n",
    "train.drop('SalePrice', inplace= True, axis = 1)"
   ]
  },
  {
   "cell_type": "code",
   "execution_count": 81,
   "id": "5f1d4f05",
   "metadata": {},
   "outputs": [
    {
     "name": "stdout",
     "output_type": "stream",
     "text": [
      "Test shape: (1459, 75)\n",
      "Train shape: (1458, 75)\n"
     ]
    }
   ],
   "source": [
    "print(\"Test shape:\", test.shape)\n",
    "print(\"Train shape:\", train.shape)"
   ]
  },
  {
   "cell_type": "code",
   "execution_count": 83,
   "id": "1568bf16",
   "metadata": {},
   "outputs": [],
   "source": [
    "test_train = pd.concat([train,test],axis=0)"
   ]
  },
  {
   "cell_type": "code",
   "execution_count": 84,
   "id": "9542c653",
   "metadata": {},
   "outputs": [
    {
     "data": {
      "text/plain": [
       "(2917, 75)"
      ]
     },
     "execution_count": 84,
     "metadata": {},
     "output_type": "execute_result"
    }
   ],
   "source": [
    "test_train.shape"
   ]
  },
  {
   "cell_type": "code",
   "execution_count": 85,
   "id": "9f34798d",
   "metadata": {},
   "outputs": [
    {
     "data": {
      "text/plain": [
       "MSSubClass         int64\n",
       "MSZoning          object\n",
       "LotFrontage      float64\n",
       "LotArea            int64\n",
       "Street            object\n",
       "                  ...   \n",
       "MiscVal            int64\n",
       "MoSold             int64\n",
       "YrSold             int64\n",
       "SaleType          object\n",
       "SaleCondition     object\n",
       "Length: 75, dtype: object"
      ]
     },
     "execution_count": 85,
     "metadata": {},
     "output_type": "execute_result"
    }
   ],
   "source": [
    "test_train.dtypes"
   ]
  },
  {
   "cell_type": "code",
   "execution_count": 86,
   "id": "21b2d6d2",
   "metadata": {},
   "outputs": [],
   "source": [
    "def find_categories(data):\n",
    "    categoricals = data.select_dtypes(include = [\"object\"])\n",
    "    return list(categoricals.columns)"
   ]
  },
  {
   "cell_type": "code",
   "execution_count": 87,
   "id": "b4375d52",
   "metadata": {},
   "outputs": [],
   "source": [
    "categorical_columns = find_categories(test_train)"
   ]
  },
  {
   "cell_type": "code",
   "execution_count": 88,
   "id": "65a892f8",
   "metadata": {},
   "outputs": [],
   "source": [
    "def onehotencoding(data_categorical):\n",
    "    test_train_converted = test_train\n",
    "    i = 0\n",
    "    for column in data_categorical:\n",
    "        converted = pd.get_dummies(test_train[column],drop_first=True)\n",
    "        test_train.drop([column],axis=1,inplace=True)\n",
    "        if i == 0:\n",
    "            test_train_converted = converted.copy()\n",
    "        else:           \n",
    "            test_train_converted = pd.concat([test_train_converted, converted],axis=1)\n",
    "        i = 1   \n",
    "    test_train_converted = pd.concat([test_train,test_train_converted], axis=1)   \n",
    "    return test_train_converted"
   ]
  },
  {
   "cell_type": "code",
   "execution_count": 89,
   "id": "a18b7d05",
   "metadata": {},
   "outputs": [
    {
     "data": {
      "text/html": [
       "<div>\n",
       "<style scoped>\n",
       "    .dataframe tbody tr th:only-of-type {\n",
       "        vertical-align: middle;\n",
       "    }\n",
       "\n",
       "    .dataframe tbody tr th {\n",
       "        vertical-align: top;\n",
       "    }\n",
       "\n",
       "    .dataframe thead th {\n",
       "        text-align: right;\n",
       "    }\n",
       "</style>\n",
       "<table border=\"1\" class=\"dataframe\">\n",
       "  <thead>\n",
       "    <tr style=\"text-align: right;\">\n",
       "      <th></th>\n",
       "      <th>MSSubClass</th>\n",
       "      <th>LotFrontage</th>\n",
       "      <th>LotArea</th>\n",
       "      <th>OverallQual</th>\n",
       "      <th>OverallCond</th>\n",
       "      <th>YearBuilt</th>\n",
       "      <th>YearRemodAdd</th>\n",
       "      <th>MasVnrArea</th>\n",
       "      <th>BsmtFinSF1</th>\n",
       "      <th>BsmtFinSF2</th>\n",
       "      <th>...</th>\n",
       "      <th>ConLI</th>\n",
       "      <th>ConLw</th>\n",
       "      <th>New</th>\n",
       "      <th>Oth</th>\n",
       "      <th>WD</th>\n",
       "      <th>AdjLand</th>\n",
       "      <th>Alloca</th>\n",
       "      <th>Family</th>\n",
       "      <th>Normal</th>\n",
       "      <th>Partial</th>\n",
       "    </tr>\n",
       "  </thead>\n",
       "  <tbody>\n",
       "    <tr>\n",
       "      <th>0</th>\n",
       "      <td>60</td>\n",
       "      <td>65.0</td>\n",
       "      <td>8450</td>\n",
       "      <td>7</td>\n",
       "      <td>5</td>\n",
       "      <td>2003</td>\n",
       "      <td>2003</td>\n",
       "      <td>196.0</td>\n",
       "      <td>706.0</td>\n",
       "      <td>0.0</td>\n",
       "      <td>...</td>\n",
       "      <td>0</td>\n",
       "      <td>0</td>\n",
       "      <td>0</td>\n",
       "      <td>0</td>\n",
       "      <td>1</td>\n",
       "      <td>0</td>\n",
       "      <td>0</td>\n",
       "      <td>0</td>\n",
       "      <td>1</td>\n",
       "      <td>0</td>\n",
       "    </tr>\n",
       "    <tr>\n",
       "      <th>1</th>\n",
       "      <td>20</td>\n",
       "      <td>80.0</td>\n",
       "      <td>9600</td>\n",
       "      <td>6</td>\n",
       "      <td>8</td>\n",
       "      <td>1976</td>\n",
       "      <td>1976</td>\n",
       "      <td>0.0</td>\n",
       "      <td>978.0</td>\n",
       "      <td>0.0</td>\n",
       "      <td>...</td>\n",
       "      <td>0</td>\n",
       "      <td>0</td>\n",
       "      <td>0</td>\n",
       "      <td>0</td>\n",
       "      <td>1</td>\n",
       "      <td>0</td>\n",
       "      <td>0</td>\n",
       "      <td>0</td>\n",
       "      <td>1</td>\n",
       "      <td>0</td>\n",
       "    </tr>\n",
       "    <tr>\n",
       "      <th>2</th>\n",
       "      <td>60</td>\n",
       "      <td>68.0</td>\n",
       "      <td>11250</td>\n",
       "      <td>7</td>\n",
       "      <td>5</td>\n",
       "      <td>2001</td>\n",
       "      <td>2002</td>\n",
       "      <td>162.0</td>\n",
       "      <td>486.0</td>\n",
       "      <td>0.0</td>\n",
       "      <td>...</td>\n",
       "      <td>0</td>\n",
       "      <td>0</td>\n",
       "      <td>0</td>\n",
       "      <td>0</td>\n",
       "      <td>1</td>\n",
       "      <td>0</td>\n",
       "      <td>0</td>\n",
       "      <td>0</td>\n",
       "      <td>1</td>\n",
       "      <td>0</td>\n",
       "    </tr>\n",
       "    <tr>\n",
       "      <th>3</th>\n",
       "      <td>70</td>\n",
       "      <td>60.0</td>\n",
       "      <td>9550</td>\n",
       "      <td>7</td>\n",
       "      <td>5</td>\n",
       "      <td>1915</td>\n",
       "      <td>1970</td>\n",
       "      <td>0.0</td>\n",
       "      <td>216.0</td>\n",
       "      <td>0.0</td>\n",
       "      <td>...</td>\n",
       "      <td>0</td>\n",
       "      <td>0</td>\n",
       "      <td>0</td>\n",
       "      <td>0</td>\n",
       "      <td>1</td>\n",
       "      <td>0</td>\n",
       "      <td>0</td>\n",
       "      <td>0</td>\n",
       "      <td>0</td>\n",
       "      <td>0</td>\n",
       "    </tr>\n",
       "    <tr>\n",
       "      <th>4</th>\n",
       "      <td>60</td>\n",
       "      <td>84.0</td>\n",
       "      <td>14260</td>\n",
       "      <td>8</td>\n",
       "      <td>5</td>\n",
       "      <td>2000</td>\n",
       "      <td>2000</td>\n",
       "      <td>350.0</td>\n",
       "      <td>655.0</td>\n",
       "      <td>0.0</td>\n",
       "      <td>...</td>\n",
       "      <td>0</td>\n",
       "      <td>0</td>\n",
       "      <td>0</td>\n",
       "      <td>0</td>\n",
       "      <td>1</td>\n",
       "      <td>0</td>\n",
       "      <td>0</td>\n",
       "      <td>0</td>\n",
       "      <td>1</td>\n",
       "      <td>0</td>\n",
       "    </tr>\n",
       "  </tbody>\n",
       "</table>\n",
       "<p>5 rows × 235 columns</p>\n",
       "</div>"
      ],
      "text/plain": [
       "   MSSubClass  LotFrontage  LotArea  OverallQual  OverallCond  YearBuilt  \\\n",
       "0          60         65.0     8450            7            5       2003   \n",
       "1          20         80.0     9600            6            8       1976   \n",
       "2          60         68.0    11250            7            5       2001   \n",
       "3          70         60.0     9550            7            5       1915   \n",
       "4          60         84.0    14260            8            5       2000   \n",
       "\n",
       "   YearRemodAdd  MasVnrArea  BsmtFinSF1  BsmtFinSF2  ...  ConLI  ConLw  New  \\\n",
       "0          2003       196.0       706.0         0.0  ...      0      0    0   \n",
       "1          1976         0.0       978.0         0.0  ...      0      0    0   \n",
       "2          2002       162.0       486.0         0.0  ...      0      0    0   \n",
       "3          1970         0.0       216.0         0.0  ...      0      0    0   \n",
       "4          2000       350.0       655.0         0.0  ...      0      0    0   \n",
       "\n",
       "   Oth  WD  AdjLand  Alloca  Family  Normal  Partial  \n",
       "0    0   1        0       0       0       1        0  \n",
       "1    0   1        0       0       0       1        0  \n",
       "2    0   1        0       0       0       1        0  \n",
       "3    0   1        0       0       0       0        0  \n",
       "4    0   1        0       0       0       1        0  \n",
       "\n",
       "[5 rows x 235 columns]"
      ]
     },
     "execution_count": 89,
     "metadata": {},
     "output_type": "execute_result"
    }
   ],
   "source": [
    "final_train_test = onehotencoding(categorical_columns)\n",
    "final_train_test.head()"
   ]
  },
  {
   "cell_type": "code",
   "execution_count": 90,
   "id": "741ead0e",
   "metadata": {},
   "outputs": [
    {
     "data": {
      "text/plain": [
       "(2917, 235)"
      ]
     },
     "execution_count": 90,
     "metadata": {},
     "output_type": "execute_result"
    }
   ],
   "source": [
    "final_train_test.shape"
   ]
  },
  {
   "cell_type": "code",
   "execution_count": 91,
   "id": "e832a33b",
   "metadata": {},
   "outputs": [
    {
     "data": {
      "text/plain": [
       "array([[ 0.0673546 , -0.20241039, -0.21643665, ..., -0.12657919,\n",
       "         0.46303851, -0.30145496],\n",
       "       [-0.87327191,  0.51858417, -0.06910838, ..., -0.12657919,\n",
       "         0.46303851, -0.30145496],\n",
       "       [ 0.0673546 , -0.05821148,  0.14227566, ..., -0.12657919,\n",
       "         0.46303851, -0.30145496],\n",
       "       ...,\n",
       "       [-0.87327191,  4.36388851,  1.26325161, ..., -0.12657919,\n",
       "        -2.15964758, -0.30145496],\n",
       "       [ 0.65524616, -0.3466093 ,  0.03863342, ..., -0.12657919,\n",
       "         0.46303851, -0.30145496],\n",
       "       [ 0.0673546 ,  0.23018635, -0.06564937, ..., -0.12657919,\n",
       "         0.46303851, -0.30145496]])"
      ]
     },
     "execution_count": 91,
     "metadata": {},
     "output_type": "execute_result"
    }
   ],
   "source": [
    "from sklearn import preprocessing\n",
    "scaler = preprocessing.StandardScaler()\n",
    "scaler.fit_transform(final_train_test)"
   ]
  },
  {
   "cell_type": "code",
   "execution_count": 92,
   "id": "29725808",
   "metadata": {},
   "outputs": [
    {
     "data": {
      "text/plain": [
       "(1459, 235)"
      ]
     },
     "execution_count": 92,
     "metadata": {},
     "output_type": "execute_result"
    }
   ],
   "source": [
    "final_train=final_train_test.iloc[:1458,:]\n",
    "final_test=final_train_test.iloc[1458:,:]\n",
    "final_test.shape"
   ]
  },
  {
   "cell_type": "code",
   "execution_count": 94,
   "id": "70ff695c",
   "metadata": {},
   "outputs": [
    {
     "data": {
      "text/plain": [
       "(1459,)"
      ]
     },
     "execution_count": 94,
     "metadata": {},
     "output_type": "execute_result"
    }
   ],
   "source": [
    "test_id.shape"
   ]
  },
  {
   "cell_type": "code",
   "execution_count": 96,
   "id": "74e1d5f6",
   "metadata": {},
   "outputs": [
    {
     "data": {
      "text/plain": [
       "(1458, 235)"
      ]
     },
     "execution_count": 96,
     "metadata": {},
     "output_type": "execute_result"
    }
   ],
   "source": [
    "X = final_train\n",
    "X.shape"
   ]
  },
  {
   "cell_type": "code",
   "execution_count": 97,
   "id": "d94ad15f",
   "metadata": {},
   "outputs": [
    {
     "name": "stdout",
     "output_type": "stream",
     "text": [
      "(1166, 235) (292, 235)\n",
      "(1166,) (292,)\n"
     ]
    }
   ],
   "source": [
    "X_train, X_test, Y_train, Y_test = train_test_split(X,target, test_size = 0.2)\n",
    "print(X_train.shape,X_test.shape)\n",
    "print(Y_train.shape,Y_test.shape)"
   ]
  },
  {
   "cell_type": "code",
   "execution_count": 98,
   "id": "ada76394",
   "metadata": {},
   "outputs": [
    {
     "data": {
      "text/plain": [
       "LinearRegression()"
      ]
     },
     "execution_count": 98,
     "metadata": {},
     "output_type": "execute_result"
    }
   ],
   "source": [
    "linear_model = LinearRegression()\n",
    "linear_model.fit(X_train,Y_train)"
   ]
  },
  {
   "cell_type": "code",
   "execution_count": 99,
   "id": "c522a30a",
   "metadata": {},
   "outputs": [
    {
     "name": "stdout",
     "output_type": "stream",
     "text": [
      "R^2 Score (Training): 0.9410\n"
     ]
    }
   ],
   "source": [
    "print(\"R^2 Score (Training): {:.4f}\".format(linear_model.score(X_train,Y_train)))"
   ]
  },
  {
   "cell_type": "code",
   "execution_count": 100,
   "id": "7c75c60a",
   "metadata": {},
   "outputs": [
    {
     "name": "stdout",
     "output_type": "stream",
     "text": [
      "R^2 Score (Training): 0.9817\n",
      "R^2 Score (Test): 0.9024\n"
     ]
    }
   ],
   "source": [
    "model_forest = RandomForestRegressor()\n",
    "model_forest.fit(X_train, Y_train)\n",
    "y_predict = model_forest.predict(X_test)\n",
    "print(\"R^2 Score (Training): {:.4f}\".format(model_forest.score(X_train,Y_train)))\n",
    "print(\"R^2 Score (Test): {:.4f}\".format(model_forest.score(X_test,Y_test)))"
   ]
  },
  {
   "cell_type": "code",
   "execution_count": 101,
   "id": "d055bef5",
   "metadata": {},
   "outputs": [
    {
     "data": {
      "text/html": [
       "<div>\n",
       "<style scoped>\n",
       "    .dataframe tbody tr th:only-of-type {\n",
       "        vertical-align: middle;\n",
       "    }\n",
       "\n",
       "    .dataframe tbody tr th {\n",
       "        vertical-align: top;\n",
       "    }\n",
       "\n",
       "    .dataframe thead th {\n",
       "        text-align: right;\n",
       "    }\n",
       "</style>\n",
       "<table border=\"1\" class=\"dataframe\">\n",
       "  <thead>\n",
       "    <tr style=\"text-align: right;\">\n",
       "      <th></th>\n",
       "      <th>Id</th>\n",
       "      <th>SalePrice</th>\n",
       "    </tr>\n",
       "  </thead>\n",
       "  <tbody>\n",
       "    <tr>\n",
       "      <th>0</th>\n",
       "      <td>1461</td>\n",
       "      <td>130304.10</td>\n",
       "    </tr>\n",
       "    <tr>\n",
       "      <th>1</th>\n",
       "      <td>1462</td>\n",
       "      <td>112052.09</td>\n",
       "    </tr>\n",
       "    <tr>\n",
       "      <th>2</th>\n",
       "      <td>1463</td>\n",
       "      <td>267458.97</td>\n",
       "    </tr>\n",
       "    <tr>\n",
       "      <th>3</th>\n",
       "      <td>1464</td>\n",
       "      <td>134593.29</td>\n",
       "    </tr>\n",
       "    <tr>\n",
       "      <th>4</th>\n",
       "      <td>1465</td>\n",
       "      <td>232681.45</td>\n",
       "    </tr>\n",
       "  </tbody>\n",
       "</table>\n",
       "</div>"
      ],
      "text/plain": [
       "     Id  SalePrice\n",
       "0  1461  130304.10\n",
       "1  1462  112052.09\n",
       "2  1463  267458.97\n",
       "3  1464  134593.29\n",
       "4  1465  232681.45"
      ]
     },
     "execution_count": 101,
     "metadata": {},
     "output_type": "execute_result"
    }
   ],
   "source": [
    "id_column = pd.DataFrame(test_id, columns=['Id'])\n",
    "saleprice_column = pd.DataFrame(y_predict, columns=['SalePrice'])\n",
    "statistics = pd.concat([id_column, saleprice_column], axis=1)\n",
    "statistics.head()"
   ]
  }
 ],
 "metadata": {
  "kernelspec": {
   "display_name": "Python 3",
   "language": "python",
   "name": "python3"
  },
  "language_info": {
   "codemirror_mode": {
    "name": "ipython",
    "version": 3
   },
   "file_extension": ".py",
   "mimetype": "text/x-python",
   "name": "python",
   "nbconvert_exporter": "python",
   "pygments_lexer": "ipython3",
   "version": "3.8.8"
  }
 },
 "nbformat": 4,
 "nbformat_minor": 5
}
